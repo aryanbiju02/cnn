{
  "nbformat": 4,
  "nbformat_minor": 0,
  "metadata": {
    "colab": {
      "name": "cnn.ipynb",
      "provenance": []
    },
    "kernelspec": {
      "name": "python3",
      "display_name": "Python 3"
    },
    "language_info": {
      "name": "python"
    }
  },
  "cells": [
    {
      "cell_type": "code",
      "metadata": {
        "id": "gp60-0rOmrgn"
      },
      "source": [
        "!pip install keras-tuner"
      ],
      "execution_count": null,
      "outputs": []
    },
    {
      "cell_type": "code",
      "metadata": {
        "id": "bum6Saadmzr3"
      },
      "source": [
        "import tensorflow as tf\n",
        "from tensorflow import keras\n",
        "import numpy as np"
      ],
      "execution_count": 2,
      "outputs": []
    },
    {
      "cell_type": "code",
      "metadata": {
        "id": "tNeNnIg1m22m"
      },
      "source": [
        "fashion_mnist=keras.datasets.fashion_mnist\n"
      ],
      "execution_count": 3,
      "outputs": []
    },
    {
      "cell_type": "code",
      "metadata": {
        "id": "ER8TXinum3lW"
      },
      "source": [
        "(train_images,train_labels),(test_images,test_labels)=fashion_mnist.load_data()"
      ],
      "execution_count": null,
      "outputs": []
    },
    {
      "cell_type": "code",
      "metadata": {
        "id": "eGaIffrjm5_Q"
      },
      "source": [
        "train_images = train_images/225.0\n",
        "test_images = test_images/225.0"
      ],
      "execution_count": 5,
      "outputs": []
    },
    {
      "cell_type": "code",
      "metadata": {
        "id": "ACSMF_bim9GP"
      },
      "source": [
        "train_images[0].shape"
      ],
      "execution_count": null,
      "outputs": []
    },
    {
      "cell_type": "code",
      "metadata": {
        "id": "MylJ9uNgnAi2"
      },
      "source": [
        "train_images = train_images.reshape(len(train_images),28,28,1)\n",
        "test_images = test_images.reshape(len(test_images),28,28,1)"
      ],
      "execution_count": 7,
      "outputs": []
    },
    {
      "cell_type": "code",
      "metadata": {
        "id": "Xh2JTqLhnDMG"
      },
      "source": [
        "def build_model(hp):\n",
        "    model = keras.Sequential([\n",
        "        keras.layers.Conv2D(\n",
        "            filters = hp.Int('conv_1_filter',min_value=32,max_value=128,step=16),\n",
        "            kernel_size = hp.Choice('conv_1_kernel',values = [3,5]),\n",
        "            activation = 'relu'\n",
        "        ),\n",
        "        keras.layers.Conv2D(\n",
        "            filters = hp.Int('conv_2_filter',min_value=32,max_value=128,step=16),\n",
        "            kernel_size = hp.Choice('conv_2_kernel',values = [3,5]),\n",
        "            activation = 'relu'\n",
        "        ),\n",
        "        keras.layers.Flatten(),\n",
        "        keras.layers.Dense(\n",
        "            units = hp.Int('dense_1_units',min_value=32,max_value=128,step=16),\n",
        "            activation = 'relu'\n",
        "        ),\n",
        "        keras.layers.Dense(10,activation='softmax')\n",
        "    ])\n",
        "    model.compile(optimizer=keras.optimizers.Adam(hp.Choice('learning_rate',values=[1e-2,1e-3])),\n",
        "                  loss='sparse_categorical_crossentropy',\n",
        "                  metrics=['accuracy'])\n",
        "    return model\n"
      ],
      "execution_count": 8,
      "outputs": []
    },
    {
      "cell_type": "code",
      "metadata": {
        "id": "5XWzRb95nF0K"
      },
      "source": [
        "from kerastuner import RandomSearch\n",
        "from kerastuner.engine.hyperparameters import HyperParameter"
      ],
      "execution_count": 9,
      "outputs": []
    },
    {
      "cell_type": "code",
      "metadata": {
        "id": "2UQI6C7znGdB"
      },
      "source": [
        "tuner_search = RandomSearch(build_model,objective='val_accuracy',max_trials=5,directory='output',project_name=\"Mnist Fashion\")\n"
      ],
      "execution_count": 12,
      "outputs": []
    },
    {
      "cell_type": "code",
      "metadata": {
        "id": "O1aMl-BRnIHK"
      },
      "source": [
        "model = tuner_search.get_best_models(num_models=1)[0]"
      ],
      "execution_count": null,
      "outputs": []
    },
    {
      "cell_type": "code",
      "metadata": {
        "id": "URBvAelNnKLP"
      },
      "source": [
        "tuner_search.search(train_images,train_labels,epochs=3,validation_split=0.3)"
      ],
      "execution_count": null,
      "outputs": []
    },
    {
      "cell_type": "code",
      "metadata": {
        "id": "M060Eoi9nL1d"
      },
      "source": [
        "model.summary()"
      ],
      "execution_count": null,
      "outputs": []
    }
  ]
}